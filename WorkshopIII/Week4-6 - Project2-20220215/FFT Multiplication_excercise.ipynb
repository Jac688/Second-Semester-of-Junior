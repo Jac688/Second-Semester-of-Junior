{
 "cells": [
  {
   "cell_type": "code",
   "execution_count": 8,
   "metadata": {},
   "outputs": [],
   "source": [
    "import itertools, numbers, math\n",
    "import random, unittest"
   ]
  },
  {
   "cell_type": "code",
   "execution_count": 9,
   "metadata": {},
   "outputs": [],
   "source": [
    "# Transform an integer number to a coefficient vector in radix-base\n",
    "def int2vec(number, base):\n",
    "    vec = []\n",
    "    while number > 0:\n",
    "        number, digit = divmod(number, base)\n",
    "        vec.append(int(digit))\n",
    "    return vec"
   ]
  },
  {
   "cell_type": "code",
   "execution_count": 10,
   "metadata": {},
   "outputs": [],
   "source": [
    "# Returns silently if the given value is an integer, otherwise raises a TypeError.\n",
    "def check_int(n):\n",
    "    if not isinstance(n, numbers.Integral):\n",
    "        raise TypeError()"
   ]
  },
  {
   "cell_type": "code",
   "execution_count": 11,
   "metadata": {},
   "outputs": [],
   "source": [
    "# Returns floor(sqrt(n)) for the given integer n >= 0.\n",
    "def sqrt(n):\n",
    "    check_int(n)\n",
    "    if n < 0:\n",
    "        raise ValueError()\n",
    "    i = 1\n",
    "    while i * i <= n:\n",
    "        i *= 2\n",
    "    result = 0\n",
    "    while i > 0:\n",
    "        if (result + i)**2 <= n:\n",
    "            result += i\n",
    "        i //= 2\n",
    "    return result"
   ]
  },
  {
   "cell_type": "code",
   "execution_count": 12,
   "metadata": {},
   "outputs": [],
   "source": [
    "# Tests whether the given integer n >= 2 is a prime number.\n",
    "def is_prime(n):\n",
    "    check_int(n)\n",
    "    if n <= 1:\n",
    "        raise ValueError()\n",
    "    return all((n % i != 0) for i in range(2, sqrt(n) + 1))"
   ]
  },
  {
   "cell_type": "code",
   "execution_count": 13,
   "metadata": {},
   "outputs": [],
   "source": [
    "# Returns a list of unique prime factors of the given integer in\n",
    "# ascending order. For example, unique_prime_factors(60) = [2, 3, 5].\n",
    "def unique_prime_factors(n):\n",
    "    check_int(n)\n",
    "    if n < 1:\n",
    "        raise ValueError()\n",
    "    result = []\n",
    "    i = 2\n",
    "    end = sqrt(n)\n",
    "    while i <= end:\n",
    "        if n % i == 0:\n",
    "            n //= i\n",
    "            result.append(i)\n",
    "            while n % i == 0:\n",
    "                n //= i\n",
    "            end = sqrt(n)\n",
    "        i += 1\n",
    "    if n > 1:\n",
    "        result.append(n)\n",
    "    return result"
   ]
  },
  {
   "cell_type": "code",
   "execution_count": 14,
   "metadata": {},
   "outputs": [],
   "source": [
    "# Returns the multiplicative inverse of n modulo mod. The inverse x has the property that\n",
    "# 0 <= x < mod and (x * n) % mod = 1. The inverse exists if and only if gcd(n, mod) = 1.\n",
    "def reciprocal(n, mod):\n",
    "    check_int(n)\n",
    "    check_int(mod)\n",
    "    if not (0 <= n < mod):\n",
    "        raise ValueError()\n",
    "    x, y = mod, n\n",
    "    a, b = 0, 1\n",
    "    while y != 0:\n",
    "        a, b = b, a - x // y * b\n",
    "        x, y = y, x % y\n",
    "    if x == 1:\n",
    "        return a % mod\n",
    "    else:\n",
    "        raise ValueError(\"Reciprocal does not exist\")"
   ]
  },
  {
   "cell_type": "code",
   "execution_count": 15,
   "metadata": {},
   "outputs": [],
   "source": [
    "# Returns a vector with zero padding on the higher indexes of the input\n",
    "# vector, which satisfies that its length is power of 2.\n",
    "# Example: If the length of vec is 6, we need to pad 2 zeroes to make the length\n",
    "# to 8=2^3, and then double the length by zero padding agin to 16 in order to \n",
    "# avoid overflow; If the length of vec is 8, we just need to pad 8 zeroes.\n",
    "def zero_padding(vec):\n",
    "    #---------------------------------\n",
    "    # please provide your codes here\n",
    "    #---------------------------------\n",
    "    i = 0\n",
    "    v = len(vec)\n",
    "    while(2**i<=v):\n",
    "        i+=1\n",
    "        \n",
    "    padding_len = 2**i * 2 - v\n",
    "    for i in range(padding_len):\n",
    "        vec.append(0)\n",
    "    return vec"
   ]
  },
  {
   "cell_type": "code",
   "execution_count": 16,
   "metadata": {},
   "outputs": [],
   "source": [
    "#Return the minimum modulus according to the input vectors vec0 and vec1. Assume vec0 and vec1 have the same length.\n",
    "#When we have convolution on two vectors of length 𝑛 where each input coefficient value is at most 𝑚 (i.e. 0≤\"x(t),y(t)\"<\"m\"), \n",
    "#the upper bound on each output value is 𝑛𝑚^2. Choosing a minimum modulus 𝑀=𝑛𝑚^2+1.\n",
    "def find_minmod(vec0, vec1):\n",
    "    n = len(vec0)\n",
    "    maxval = max(val for val in itertools.chain(vec0, vec1))\n",
    "    minmod = maxval**2 * n + 1\n",
    "    return minmod"
   ]
  },
  {
   "cell_type": "code",
   "execution_count": 17,
   "metadata": {},
   "outputs": [],
   "source": [
    "# Returns the smallest modulus n such that n = i * veclen + 1\n",
    "# for some integer i >= 1, n > veclen, and n >= minmod is prime.\n",
    "# Although the loop might run for a long time and create arbitrarily large numbers,\n",
    "# Dirichlet's theorem guarantees that such a prime number must exist.\n",
    "def find_modulus(veclen, minmod):\n",
    "    check_int(veclen)\n",
    "    check_int(minmod)\n",
    "    if veclen < 1 or minmod < 1:\n",
    "        raise ValueError()\n",
    "    #---------------------------------\n",
    "    # please provide your codes here\n",
    "    #---------------------------------\n",
    "    i = 1\n",
    "    n = i*veclen + 1\n",
    "    while n<minmod or not is_prime(n):\n",
    "        i+=1\n",
    "        n = i*veclen + 1\n",
    "    return n"
   ]
  },
  {
   "cell_type": "code",
   "execution_count": 18,
   "metadata": {},
   "outputs": [],
   "source": [
    "# Tests whether val generates the multiplicative group of integers modulo mod. totient\n",
    "# must equal the Euler phi function of mod. In other words, the set of numbers\n",
    "# {val^1 % mod, val^2 % mod, ..., val^totient % mod} is equal to the set of all\n",
    "# numbers in the range (0, mod) that are coprime to mod. If mod is prime, then\n",
    "# totient = mod - 1, and powers of a generator produces all integers in the range [1, mod).\n",
    "# Return True or False.\n",
    "def is_generator(val, totient, mod):\n",
    "    check_int(val)\n",
    "    check_int(totient)\n",
    "    check_int(mod)\n",
    "    if not (0 <= val < mod):\n",
    "        raise ValueError()\n",
    "    if not (1 <= totient < mod):\n",
    "        raise ValueError()\n",
    "    #---------------------------------\n",
    "    # please provide your codes here\n",
    "    #---------------------------------\n",
    "    ps =  unique_prime_factors(totient)\n",
    "    is_gene = 1\n",
    "    if val**totient % mod == 1:\n",
    "        for p in ps:\n",
    "            if val**(totient//p) % mod == 1:\n",
    "                is_gene = 0\n",
    "                break\n",
    "    else:\n",
    "        is_gene = 0\n",
    "    return True if is_gene else False"
   ]
  },
  {
   "cell_type": "code",
   "execution_count": 19,
   "metadata": {},
   "outputs": [],
   "source": [
    "# Returns an arbitrary generator of the multiplicative group of integers modulo mod.\n",
    "# totient must equal the Euler phi function of mod. If mod is prime, an answer must exist.\n",
    "def find_generator(totient, mod):\n",
    "    check_int(totient)\n",
    "    check_int(mod)\n",
    "    if not (1 <= totient < mod):\n",
    "        raise ValueError()\n",
    "    for i in range(1, mod):\n",
    "        if is_generator(i, totient, mod):\n",
    "            return i\n",
    "    raise ValueError(\"No generator exists\")\n"
   ]
  },
  {
   "cell_type": "code",
   "execution_count": 20,
   "metadata": {},
   "outputs": [],
   "source": [
    "# Returns an arbitrary primitive degree-th root of unity modulo mod.\n",
    "# totient must be a multiple of degree. If mod is prime, an answer must exist.\n",
    "# Hint: function find_generator() is required.\n",
    "def find_primitive_root(degree, totient, mod):\n",
    "    print ('degree, totient, mod',degree, totient, mod)\n",
    "    check_int(degree)\n",
    "    check_int(totient)\n",
    "    check_int(mod)\n",
    "    if not (1 <= degree <= totient < mod):\n",
    "        raise ValueError()\n",
    "    if totient % degree != 0:\n",
    "        raise ValueError()\n",
    "    #---------------------------------\n",
    "    # please provide your codes here\n",
    "    #---------------------------------\n",
    "    g = find_generator(totient,mod)\n",
    "    c = totient // degree\n",
    "    root = g**c % mod\n",
    "    return root"
   ]
  },
  {
   "cell_type": "code",
   "execution_count": 21,
   "metadata": {},
   "outputs": [],
   "source": [
    "# Returns the forward number-theoretic transform of the given vector with\n",
    "# respect to the given primitive nth root of unity under the given modulus.\n",
    "def dft_ntt(invec, root, mod):\n",
    "    check_int(root)\n",
    "    check_int(mod)\n",
    "    if len(invec) >= mod:\n",
    "        raise ValueError()\n",
    "    if not all((0 <= val < mod) for val in invec):\n",
    "        raise ValueError()\n",
    "    if not (1 <= root < mod):\n",
    "        raise ValueError()\n",
    "    \n",
    "    outvec = []\n",
    "    #---------------------------------\n",
    "    # please provide your codes here\n",
    "    #---------------------------------\n",
    "    for k in range(len(invec)):\n",
    "        temp = 0\n",
    "        for t in range(len(invec)):\n",
    "            temp += invec[t]*root**(t*k)\n",
    "        outvec.append(temp%mod)\n",
    "    return outvec"
   ]
  },
  {
   "cell_type": "code",
   "execution_count": 22,
   "metadata": {},
   "outputs": [],
   "source": [
    "# Returns the inverse number-theoretic transform of the given vector with\n",
    "# respect to the given primitive nth root of unity under the given modulus.\n",
    "def idft_ntt(invec, root, mod):\n",
    "    outvec = dft_ntt(invec, reciprocal(root, mod), mod)\n",
    "    scaler = reciprocal(len(invec), mod)\n",
    "    return [(val * scaler % mod) for val in outvec]"
   ]
  },
  {
   "cell_type": "code",
   "execution_count": 23,
   "metadata": {},
   "outputs": [],
   "source": [
    "def bit_reverse(x, bits):\n",
    "    y = 0\n",
    "    for i in range(bits):\n",
    "        y = (y<<1) | (x&1)\n",
    "        x >>= 1\n",
    "    return y"
   ]
  },
  {
   "cell_type": "code",
   "execution_count": 24,
   "metadata": {},
   "outputs": [
    {
     "data": {
      "text/plain": [
       "[0, 4, 2, 6, 1, 5, 3, 7]"
      ]
     },
     "execution_count": 24,
     "metadata": {},
     "output_type": "execute_result"
    }
   ],
   "source": [
    "a = [0,1,2,3,4,5,6,7]\n",
    "[bit_reverse(i,3) for i in a]"
   ]
  },
  {
   "cell_type": "code",
   "execution_count": 25,
   "metadata": {},
   "outputs": [],
   "source": [
    "# Computes the forward number-theoretic transform in in-place FFT structure of the given vector,\n",
    "# with respect to the given primitive nth root of unity under the given modulus.\n",
    "# The length of the vector must be a power of 2.\n",
    "def dft_fft(vector, root, mod):\n",
    "    n = len(vector)\n",
    "    levels = n.bit_length() - 1\n",
    "    if 1 << levels != n:\n",
    "        raise ValueError(\"Length is not a power of 2\")\n",
    "    \n",
    "    #---------------------------------\n",
    "    # please provide your codes here\n",
    "    #---------------------------------\n",
    "    idx = [bit_reverse(i, levels) for i in range(n)]\n",
    "    x = [vector[i] for i in idx]\n",
    "    lgn = math.log(n,2)\n",
    "    X =  [0] * n\n",
    "    \n",
    "    for j in range(int(lgn)):\n",
    "        for k in range(int(n/2)):\n",
    "            p = math.floor(k/(2**(lgn-1-j)))*(2**(lgn-1-j))\n",
    "            X[k] = (x[2*k] + x[2*k+1]*root**p) % mod\n",
    "            X[k+int(n/2)] = (x[2*k] - x[2*k+1]*root**p) % mod\n",
    "        if j != lgn - 1:\n",
    "            for k in range(n):\n",
    "                x[k] = X[k]\n",
    "                \n",
    "    return X"
   ]
  },
  {
   "cell_type": "code",
   "execution_count": 26,
   "metadata": {},
   "outputs": [],
   "source": [
    "# Returns the inverse number-theoretic transform (FFT structure) of the given vector with\n",
    "# respect to the given primitive nth root of unity under the given modulus.\n",
    "def idft_fft(invec, root, mod):\n",
    "    outvec = dft_fft(invec, reciprocal(root, mod), mod)\n",
    "    scaler = reciprocal(len(invec), mod)\n",
    "    return [(val * scaler % mod) for val in outvec]"
   ]
  },
  {
   "cell_type": "code",
   "execution_count": 52,
   "metadata": {},
   "outputs": [],
   "source": [
    "def fft_mult(in0, in1):\n",
    "    \n",
    "    #transform integer to vector\n",
    "    base = 10\n",
    "    vec0 = int2vec(in0,base)\n",
    "    vec1 = int2vec(in1,base)\n",
    "\n",
    "    #input validation check\n",
    "    if not (0 < len(vec0) == len(vec1)):\n",
    "        raise ValueError()\n",
    "    if any((val < 0) for val in itertools.chain(vec0, vec1)):\n",
    "        raise ValueError()\n",
    "\n",
    "    #zero padding the vectors to length of power of 2\n",
    "    vec0 = zero_padding(vec0);\n",
    "    vec1 = zero_padding(vec1);\n",
    "\n",
    "    #parameter selction\n",
    "    n = len(vec0)\n",
    "    minmod = find_minmod(vec0, vec1)\n",
    "    mod = find_modulus(n, minmod)\n",
    "    root = find_primitive_root(n, mod-1, mod)\n",
    "\n",
    "    #forward transforms\n",
    "    vec0 = dft_ntt(vec0, root, mod)\n",
    "    vec1 = dft_ntt(vec1, root, mod)\n",
    "\n",
    "    #point-wise multiplication in frequency domain\n",
    "    vec2 = [(x * y % mod) for (x, y) in zip(vec0, vec1)]\n",
    "    print(vec2)\n",
    "\n",
    "    #inverse transform\n",
    "    result = idft_ntt(vec2, root, mod)\n",
    "\n",
    "    #transform vector to integer\n",
    "    product = 0\n",
    "    for i in range(len(result)):\n",
    "        product += result[i] * base**i\n",
    "    return product"
   ]
  },
  {
   "cell_type": "markdown",
   "metadata": {},
   "source": [
    "#### Test find_modulus() function: "
   ]
  },
  {
   "cell_type": "code",
   "execution_count": 28,
   "metadata": {},
   "outputs": [
    {
     "name": "stdout",
     "output_type": "stream",
     "text": [
      "test find modulus pass? True\n"
     ]
    }
   ],
   "source": [
    "#test set 1\n",
    "veclen = 32\n",
    "minimum = 2593\n",
    "expect = 2593\n",
    "actual = find_modulus(veclen, minimum)\n",
    "print ('test find modulus pass?', actual == expect)"
   ]
  },
  {
   "cell_type": "code",
   "execution_count": 29,
   "metadata": {},
   "outputs": [
    {
     "name": "stdout",
     "output_type": "stream",
     "text": [
      "test find modulus pass? True\n"
     ]
    }
   ],
   "source": [
    "#test set 2\n",
    "veclen = 16\n",
    "minimum = 785\n",
    "expect = 881\n",
    "actual = find_modulus(veclen, minimum)\n",
    "print ('test find modulus pass?', actual == expect)"
   ]
  },
  {
   "cell_type": "code",
   "execution_count": 30,
   "metadata": {},
   "outputs": [
    {
     "name": "stdout",
     "output_type": "stream",
     "text": [
      "test find modulus pass? True\n"
     ]
    }
   ],
   "source": [
    "#test set 3\n",
    "veclen = 8\n",
    "minimum = 393\n",
    "expect = 401\n",
    "actual = find_modulus(veclen, minimum)\n",
    "print ('test find modulus pass?', actual == expect)"
   ]
  },
  {
   "cell_type": "markdown",
   "metadata": {},
   "source": [
    "#### Test `is_generator()` function: "
   ]
  },
  {
   "cell_type": "code",
   "execution_count": 31,
   "metadata": {},
   "outputs": [
    {
     "name": "stdout",
     "output_type": "stream",
     "text": [
      "test is generator pass? True\n"
     ]
    }
   ],
   "source": [
    "#test set 1\n",
    "val = 2\n",
    "totient = 400\n",
    "mod = 401\n",
    "expect = False\n",
    "actual = is_generator(val, totient, mod)\n",
    "print ('test is generator pass?', actual == expect)"
   ]
  },
  {
   "cell_type": "code",
   "execution_count": 32,
   "metadata": {},
   "outputs": [
    {
     "name": "stdout",
     "output_type": "stream",
     "text": [
      "test is generator pass? True\n"
     ]
    }
   ],
   "source": [
    "#test set 2\n",
    "val = 3\n",
    "totient = 400\n",
    "mod = 401\n",
    "expect = True\n",
    "actual = is_generator(val, totient, mod)\n",
    "print ('test is generator pass?', actual == expect)"
   ]
  },
  {
   "cell_type": "code",
   "execution_count": 33,
   "metadata": {},
   "outputs": [
    {
     "name": "stdout",
     "output_type": "stream",
     "text": [
      "test is generator pass? True\n"
     ]
    }
   ],
   "source": [
    "#test set 3\n",
    "val = 10\n",
    "totient = 1296\n",
    "mod = 1297\n",
    "expect = True\n",
    "actual = is_generator(val, totient, mod)\n",
    "print ('test is generator pass?', actual == expect)"
   ]
  },
  {
   "cell_type": "markdown",
   "metadata": {},
   "source": [
    "#### Test `find_primitive_root()` function: "
   ]
  },
  {
   "cell_type": "code",
   "execution_count": 34,
   "metadata": {},
   "outputs": [
    {
     "name": "stdout",
     "output_type": "stream",
     "text": [
      "degree, totient, mod 16 1296 1297\n",
      "test find primitive root pass? True\n"
     ]
    }
   ],
   "source": [
    "#test set 1\n",
    "degree = 16\n",
    "totient = 1296\n",
    "mod = 1297\n",
    "expect = 355\n",
    "actual = find_primitive_root(degree, totient, mod)\n",
    "print ('test find primitive root pass?', actual == expect)"
   ]
  },
  {
   "cell_type": "code",
   "execution_count": 35,
   "metadata": {},
   "outputs": [
    {
     "name": "stdout",
     "output_type": "stream",
     "text": [
      "degree, totient, mod 32 2592 2593\n",
      "test find primitive root pass? True\n"
     ]
    }
   ],
   "source": [
    "#test set 2\n",
    "degree = 32\n",
    "totient = 2592\n",
    "mod = 2593\n",
    "expect = 1997\n",
    "actual = find_primitive_root(degree, totient, mod)\n",
    "print ('test find primitive root pass?', actual == expect)"
   ]
  },
  {
   "cell_type": "code",
   "execution_count": 36,
   "metadata": {},
   "outputs": [
    {
     "name": "stdout",
     "output_type": "stream",
     "text": [
      "degree, totient, mod 64 5440 5441\n",
      "test find primitive root pass? True\n"
     ]
    }
   ],
   "source": [
    "#test set 3\n",
    "degree = 64\n",
    "totient = 5440\n",
    "mod = 5441\n",
    "expect = 1638\n",
    "actual = find_primitive_root(degree, totient, mod)\n",
    "print ('test find primitive root pass?', actual == expect)"
   ]
  },
  {
   "cell_type": "markdown",
   "metadata": {},
   "source": [
    "#### Test `forward_transform()` function: "
   ]
  },
  {
   "cell_type": "code",
   "execution_count": 46,
   "metadata": {},
   "outputs": [
    {
     "name": "stdout",
     "output_type": "stream",
     "text": [
      "test forward transform pass? True\n"
     ]
    }
   ],
   "source": [
    "#actual = dft_ntt([6, 0, 10, 7, 2], 3, 11)\n",
    "#expect = [3, 7, 0, 5, 4]\n",
    "actual = dft_fft([1,3,5,6,0,0,0,0], 609, 673)\n",
    "expect = [15, 36, 495, 305, 670, 546, 170, 463]\n",
    "print ('test forward transform pass?', actual == expect)"
   ]
  },
  {
   "cell_type": "markdown",
   "metadata": {},
   "source": [
    "#### Test `inverse_transform()` function: "
   ]
  },
  {
   "cell_type": "code",
   "execution_count": 47,
   "metadata": {},
   "outputs": [
    {
     "name": "stdout",
     "output_type": "stream",
     "text": [
      "test inverse transform pass? True\n"
     ]
    }
   ],
   "source": [
    "#actual = idft_ntt([3, 7, 0, 5, 4], 3, 11)\n",
    "#expect = [6, 0, 10, 7, 2]\n",
    "actual = idft_fft([15, 36, 495, 305, 670, 546, 170, 463], 609, 673)\n",
    "expect = [1,3,5,6,0,0,0,0]\n",
    "print ('test inverse transform pass?',  actual == expect)"
   ]
  },
  {
   "cell_type": "markdown",
   "metadata": {},
   "source": [
    "#### Test `fft_mult()` function for FFT: "
   ]
  },
  {
   "cell_type": "code",
   "execution_count": 56,
   "metadata": {},
   "outputs": [],
   "source": [
    "def fft_mult(in0, in1):\n",
    "    \n",
    "    #transform integer to vector\n",
    "    base = 10\n",
    "    vec0 = int2vec(in0,base)\n",
    "    vec1 = int2vec(in1,base)\n",
    "\n",
    "    #input validation check\n",
    "    if not (0 < len(vec0) == len(vec1)):\n",
    "        raise ValueError()\n",
    "    if any((val < 0) for val in itertools.chain(vec0, vec1)):\n",
    "        raise ValueError()\n",
    "\n",
    "    #zero padding the vectors to length of power of 2\n",
    "    vec0 = zero_padding(vec0);\n",
    "    vec1 = zero_padding(vec1);\n",
    "\n",
    "    #parameter selction\n",
    "    n = len(vec0)\n",
    "    minmod = find_minmod(vec0, vec1)\n",
    "    mod = find_modulus(n, minmod)\n",
    "    root = find_primitive_root(n, mod-1, mod)\n",
    "\n",
    "    #forward transforms\n",
    "    vec0 = dft_fft(vec0, root, mod)\n",
    "    vec1 = dft_fft(vec1, root, mod)\n",
    "\n",
    "    #point-wise multiplication in frequency domain\n",
    "    vec2 = [int(x * y % mod) for (x, y) in zip(vec0, vec1)]\n",
    "    print(vec2)\n",
    "\n",
    "    #inverse transform\n",
    "    result = idft_fft(vec2, root, mod)\n",
    "\n",
    "    #transform vector to integer\n",
    "    product = 0\n",
    "    for i in range(len(result)):\n",
    "        product += result[i] * base**i\n",
    "    return product"
   ]
  },
  {
   "cell_type": "code",
   "execution_count": 57,
   "metadata": {},
   "outputs": [
    {
     "name": "stdout",
     "output_type": "stream",
     "text": [
      "test_main\n",
      "degree, totient, mod 64 5440 5441\n",
      "[2303, 4387, 5344, 180, 3924, 1809, 2574, 4580, 5281, 1097, 4730, 3306, 3353, 1250, 1682, 1171, 2725, 4599, 2032, 4136, 3263, 58, 1970, 153, 1926, 4483, 703, 1289, 4859, 2783, 2917, 806, 16, 3549, 764, 1353, 4377, 2666, 2574, 4580, 5281, 1097, 4730, 3306, 3353, 1250, 1682, 1171, 2725, 4599, 2032, 4136, 3263, 58, 1970, 153, 1926, 4483, 703, 1289, 4859, 2783, 2917, 806]\n",
      "1.5001644288678464e+65\n",
      "1883583350253735734193281844636978004\n",
      "test FFT multiplication pass? False\n"
     ]
    }
   ],
   "source": [
    "def main():\n",
    "    print ('test_main')\n",
    "    input0 = 1276582236958546324\n",
    "    input1 = 1475489236589542321\n",
    "    result = fft_mult(input0, input1)\n",
    "    print (result)\n",
    "    print (input0 * input1)\n",
    "    print ('test FFT multiplication pass?', result == input0 * input1)\n",
    "\n",
    "main()"
   ]
  },
  {
   "cell_type": "code",
   "execution_count": null,
   "metadata": {},
   "outputs": [],
   "source": []
  },
  {
   "cell_type": "code",
   "execution_count": null,
   "metadata": {},
   "outputs": [],
   "source": []
  }
 ],
 "metadata": {
  "kernelspec": {
   "display_name": "Python 3",
   "language": "python",
   "name": "python3"
  },
  "language_info": {
   "codemirror_mode": {
    "name": "ipython",
    "version": 3
   },
   "file_extension": ".py",
   "mimetype": "text/x-python",
   "name": "python",
   "nbconvert_exporter": "python",
   "pygments_lexer": "ipython3",
   "version": "3.8.8"
  },
  "toc": {
   "base_numbering": 1,
   "nav_menu": {},
   "number_sections": true,
   "sideBar": true,
   "skip_h1_title": false,
   "title_cell": "Table of Contents",
   "title_sidebar": "Contents",
   "toc_cell": false,
   "toc_position": {},
   "toc_section_display": true,
   "toc_window_display": false
  }
 },
 "nbformat": 4,
 "nbformat_minor": 2
}
