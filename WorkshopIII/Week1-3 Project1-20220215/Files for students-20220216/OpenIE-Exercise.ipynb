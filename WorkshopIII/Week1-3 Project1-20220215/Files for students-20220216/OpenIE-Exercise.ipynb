{
 "cells": [
  {
   "cell_type": "markdown",
   "metadata": {},
   "source": [
    "## Open Information Extraction\n",
    "Open information extraction (open IE) refers to the extraction of relation tuples, typically binary relations, from plain text, such as (Mark Zuckerberg; founded; Facebook). The central difference from other information extraction is that the schema for these relations does not need to be specified in advance; typically the relation name is just the text linking two arguments.\n",
    "- StanfordOpenIE (https://nlp.stanford.edu/software/openie.html) StanfordOpenIE is part of StanfordCoreNLP, which is built on top of PyTorch 1.0.0. \n",
    " - Therefore, first install pytorch (https://pytorch.org/get-started/locally/), select your  os, package, language, cuda , then use the   command to install.\n",
    " - Install StanfordOpenIE using ``pip install stanford-openie``(https://pypi.org/project/stanford-openie/)\n",
    " - Install Java SE Development Kit 8 (https://www.oracle.com/technetwork/java/javase/downloads/jdk8-downloads-2133151.html/)\n",
    " - Install graphviz : conda install python-graphviz\n",
    " - Unzip the stanford-corenlp-full-2018-10-05.zip to \"C:\\Users\\UIC\\stanfordnlp_resources\""
   ]
  },
  {
   "cell_type": "code",
   "execution_count": 2,
   "metadata": {},
   "outputs": [],
   "source": [
    "import nltk\n",
    "from nltk import pos_tag, word_tokenize, ne_chunk, Tree\n",
    "from openie import StanfordOpenIE\n",
    "from graphviz import Digraph"
   ]
  },
  {
   "cell_type": "markdown",
   "metadata": {},
   "source": [
    "### Triple Extraction from text using ``StanfordOpenIE``"
   ]
  },
  {
   "cell_type": "code",
   "execution_count": 3,
   "metadata": {},
   "outputs": [
    {
     "name": "stdout",
     "output_type": "stream",
     "text": [
      "Text: Barack Obama was the 44th president of the United States, and the first African American to serve in the office.\n",
      "          On October 3, 1992,  Barack Obama married  Michelle Robinson at Trinity United Church in Chicago..\n",
      "Starting server with command: java -Xmx8G -cp C:\\Users\\56492\\.stanfordnlp_resources\\stanford-corenlp-4.1.0/* edu.stanford.nlp.pipeline.StanfordCoreNLPServer -port 9000 -timeout 60000 -threads 5 -maxCharLength 100000 -quiet True -serverProperties corenlp_server-b39b18264b2248cc.props -preload openie\n",
      "|- {'subject': 'Barack Obama', 'relation': 'was 44th president of', 'object': 'United States'}\n",
      "|- {'subject': 'Barack Obama', 'relation': 'was president of', 'object': 'United States'}\n",
      "|- {'subject': 'Barack Obama', 'relation': 'was', 'object': 'president'}\n",
      "|- {'subject': 'Barack Obama', 'relation': 'was', 'object': '44th president'}\n",
      "|- {'subject': 'Trinity United Church', 'relation': 'is in', 'object': 'Chicago'}\n",
      "|- {'subject': 'Barack Obama', 'relation': 'married', 'object': 'Michelle Robinson'}\n",
      "|- {'subject': 'Barack Obama', 'relation': 'married Michelle Robinson at', 'object': 'Trinity United Church'}\n",
      "|- {'subject': 'Barack Obama', 'relation': 'married Michelle Robinson at', 'object': 'Trinity United Church in Chicago'}\n",
      "|- {'subject': 'Barack Obama', 'relation': 'married Michelle Robinson On', 'object': 'October 3 1992'}\n"
     ]
    }
   ],
   "source": [
    "# Example code for using StanfordOpenIE in python\n",
    "from openie import StanfordOpenIE\n",
    "\n",
    "with StanfordOpenIE() as client:\n",
    "    text = '''Barack Obama was the 44th president of the United States, and the first African American to serve in the office.\n",
    "          On October 3, 1992,  Barack Obama married  Michelle Robinson at Trinity United Church in Chicago.'''\n",
    "    print('Text: %s.' % text)\n",
    "    for triple in client.annotate(text):\n",
    "        print('|-', triple)"
   ]
  },
  {
   "cell_type": "markdown",
   "metadata": {},
   "source": [
    "For each sentence, StanfordOpenIE will return several triples with high confidence scores. To further refine the results, we can perform filtering by some constraints:\n",
    "- The subjet and object must be named entity from some predfined types\n",
    "- The relation must be verb or verb phrases (chunk rule)\n",
    "\n",
    "Come up with your own refinement strategy to get a better result."
   ]
  },
  {
   "cell_type": "code",
   "execution_count": 55,
   "metadata": {
    "scrolled": true
   },
   "outputs": [
    {
     "name": "stdout",
     "output_type": "stream",
     "text": [
      "(S\n",
      "  (PERSON Barack/NNP)\n",
      "  (PERSON Obama/NNP)\n",
      "  was/VBD\n",
      "  the/DT\n",
      "  44th/JJ\n",
      "  president/NN\n",
      "  of/IN\n",
      "  the/DT\n",
      "  (GPE United/NNP States/NNPS)\n",
      "  ,/,\n",
      "  and/CC\n",
      "  the/DT\n",
      "  first/JJ\n",
      "  (ORGANIZATION African/JJ American/NNP)\n",
      "  to/TO\n",
      "  serve/VB\n",
      "  in/IN\n",
      "  the/DT\n",
      "  office/NN\n",
      "  ./.\n",
      "  On/IN\n",
      "  October/NNP\n",
      "  3/CD\n",
      "  ,/,\n",
      "  1992/CD\n",
      "  ,/,\n",
      "  (PERSON Barack/NNP Obama/NNP)\n",
      "  married/VBD\n",
      "  (PERSON Michelle/NNP Robinson/NNP)\n",
      "  at/IN\n",
      "  (ORGANIZATION Trinity/NNP United/NNP Church/NNP)\n",
      "  in/IN\n",
      "  (GPE Chicago/NNP)\n",
      "  ./.)\n",
      "['was', 'serve', 'married']\n",
      "Starting server with command: java -Xmx8G -cp C:\\Users\\56492\\.stanfordnlp_resources\\stanford-corenlp-4.1.0/* edu.stanford.nlp.pipeline.StanfordCoreNLPServer -port 9000 -timeout 60000 -threads 5 -maxCharLength 100000 -quiet True -serverProperties corenlp_server-d578b9d3078d4f9f.props -preload openie\n",
      "was 44th president of\n",
      "was president of\n",
      "married\n",
      "married Michelle Robinson at\n",
      "Extracted Triples: [['Barack Obama', 'was 44th president of', 'United States'], ['Barack Obama', 'was president of', 'United States'], ['Barack Obama', 'married', 'Michelle Robinson'], ['Barack Obama', 'married Michelle Robinson at', 'Trinity United Church']]\n"
     ]
    }
   ],
   "source": [
    "def extract_triple(text):\n",
    "    # your implementation\n",
    "    entity = []\n",
    "    VBDS = []\n",
    "    chunks = ne_chunk(pos_tag(word_tokenize(text)))\n",
    "    print(chunks)\n",
    "    for i in chunks:\n",
    "        if type(i) != Tree:\n",
    "            if i[1]=='VBD' or i[1]=='VB':\n",
    "                VBDS.append(i[0])\n",
    "        if type(i) == Tree:\n",
    "            tokens = []\n",
    "            for token,pos in i.leaves():\n",
    "                tokens.append(token)\n",
    "            new_tok = ' '.join(tokens)\n",
    "            entity.append(new_tok)\n",
    "    print(VBDS)        \n",
    "    # obtain chunks using ne_chunk()\n",
    "    # store all tokens of named entities(chunks) in a python list\n",
    "    triples = []\n",
    "    client =  StanfordOpenIE()\n",
    "    for triple in client.annotate(text):\n",
    "        if triple['subject'] in entity and triple['object'] in entity:\n",
    "            det = False\n",
    "            for i in VBDS:\n",
    "                if i in triple['relation']:\n",
    "                    print(triple['relation'])\n",
    "                    det = True\n",
    "                    break\n",
    "            if det == True:\n",
    "                triples.append([triple['subject'], triple['relation'],  triple['object']])\n",
    "    return triples\n",
    "\n",
    "\n",
    "tr = extract_triple(\"\"\" Barack Obama was the 44th president of the United States, and the first African American to serve in the office.\n",
    "          On October 3, 1992,  Barack Obama married  Michelle Robinson at Trinity United Church in Chicago. \"\"\")\n",
    "print(\"Extracted Triples:\",tr)"
   ]
  },
  {
   "cell_type": "markdown",
   "metadata": {},
   "source": [
    "### Construct the KB from Triples\n",
    "Given the knowledge triples, we need to index all the entities and relations, i.e.,get the entity set and relation set, and represent each triple using entity id and relation id."
   ]
  },
  {
   "cell_type": "code",
   "execution_count": 56,
   "metadata": {
    "scrolled": true
   },
   "outputs": [
    {
     "name": "stdout",
     "output_type": "stream",
     "text": [
      "Entities: {0: 'Michelle Robinson', 1: 'United States', 2: 'Barack Obama', 3: 'Trinity United Church'} \n",
      "Relations: {0: 'married', 1: 'was president of', 2: 'married Michelle Robinson at', 3: 'was 44th president of'} \n",
      "Triples: [[2, 3, 1], [2, 1, 1], [2, 0, 0], [2, 2, 3]]\n"
     ]
    }
   ],
   "source": [
    "def KB(triples):\n",
    "    # your implementation\n",
    "    ent = []\n",
    "    rel = []\n",
    "    for i in triples:\n",
    "        ent.append(i[2])\n",
    "        ent.append(i[0])\n",
    "        rel.append(i[1])\n",
    "    unent = set(ent)\n",
    "    ind = range(len(unent))\n",
    "    id_en = dict(zip(ind, unent))\n",
    "#     print(id_en)\n",
    "    \n",
    "    unrel = set(rel)\n",
    "    id_re = dict(zip(ind, unrel))\n",
    "     \n",
    "    triples_id = []\n",
    "    for i in triples:\n",
    "        idx = []\n",
    "        idx.append(list(id_en.keys())[list(id_en.values()).index(i[0])])\n",
    "        idx.append(list(id_re.keys())[list(id_re.values()).index(i[1])])\n",
    "        idx.append(list(id_en.keys())[list(id_en.values()).index(i[2])])\n",
    "        triples_id.append(idx)\n",
    "    \n",
    "    #return three newly created dictionaries for entities, relations and triples\n",
    "    return id_en,id_re,triples_id\n",
    "kb = KB(tr)\n",
    "print(\"Entities:\", kb[0], \"\\nRelations:\",kb[1], \"\\nTriples:\",kb[2])"
   ]
  },
  {
   "cell_type": "markdown",
   "metadata": {},
   "source": [
    "### Visualize the KB using ``graphviz``\n",
    "- To render the graph, the dependency is a working installation of ``Graphviz`` (https://www.graphviz.org/download/).\n",
    "- After installing Graphviz, make sure that its ``bin/`` subdirectory containing the layout commands for rendering graph descriptions (dot, circo, neato, etc.) is on your systems’ path: On the command-line, ``dot -V`` should print the version of your Graphiz installation.\n",
    "- Refer to https://graphviz.readthedocs.io/en/stable/manual.html for the user guid of graphviz"
   ]
  },
  {
   "cell_type": "code",
   "execution_count": 57,
   "metadata": {
    "scrolled": false
   },
   "outputs": [
    {
     "name": "stdout",
     "output_type": "stream",
     "text": [
      "// KB-Demo\n",
      "digraph {\n",
      "\t0 [label=\"Michelle Robinson\"]\n",
      "\t1 [label=\"United States\"]\n",
      "\t2 [label=\"Barack Obama\"]\n",
      "\t3 [label=\"Trinity United Church\"]\n",
      "\t2 -> 1 [label=\"was 44th president of\"]\n",
      "\t2 -> 1 [label=\"was president of\"]\n",
      "\t2 -> 0 [label=married]\n",
      "\t2 -> 3 [label=\"married Michelle Robinson at\"]\n",
      "}\n"
     ]
    }
   ],
   "source": [
    "def visualizeKB(kb_input):\n",
    "    # your implementation\n",
    "    dot = Digraph(comment='KB-Demo')    \n",
    "    for i in range(len(kb_input[0])):\n",
    "        dot.node(str(list(kb[0].keys())[i]), kb[0][i])\n",
    "    for i in range(len(kb_input[0])):\n",
    "        dot.edge(str(kb_input[2][i][0]), str(kb_input[2][i][2]), kb_input[1][kb_input[2][i][1]])\n",
    "    return dot\n",
    "dot = visualizeKB(kb)\n",
    "print(dot.source)"
   ]
  },
  {
   "cell_type": "code",
   "execution_count": 58,
   "metadata": {},
   "outputs": [
    {
     "data": {
      "image/svg+xml": [
       "<?xml version=\"1.0\" encoding=\"UTF-8\" standalone=\"no\"?>\r\n",
       "<!DOCTYPE svg PUBLIC \"-//W3C//DTD SVG 1.1//EN\"\r\n",
       " \"http://www.w3.org/Graphics/SVG/1.1/DTD/svg11.dtd\">\r\n",
       "<!-- Generated by graphviz version 2.38.0 (20140413.2041)\r\n",
       " -->\r\n",
       "<!-- Title: %3 Pages: 1 -->\r\n",
       "<svg width=\"555pt\" height=\"131pt\"\r\n",
       " viewBox=\"0.00 0.00 555.29 131.00\" xmlns=\"http://www.w3.org/2000/svg\" xmlns:xlink=\"http://www.w3.org/1999/xlink\">\r\n",
       "<g id=\"graph0\" class=\"graph\" transform=\"scale(1 1) rotate(0) translate(4 127)\">\r\n",
       "<title>%3</title>\r\n",
       "<polygon fill=\"white\" stroke=\"none\" points=\"-4,4 -4,-127 551.293,-127 551.293,4 -4,4\"/>\r\n",
       "<!-- 0 -->\r\n",
       "<g id=\"node1\" class=\"node\"><title>0</title>\r\n",
       "<ellipse fill=\"none\" stroke=\"black\" cx=\"79.293\" cy=\"-18\" rx=\"79.0865\" ry=\"18\"/>\r\n",
       "<text text-anchor=\"middle\" x=\"79.293\" y=\"-14.3\" font-family=\"Times New Roman,serif\" font-size=\"14.00\">Michelle Robinson</text>\r\n",
       "</g>\r\n",
       "<!-- 1 -->\r\n",
       "<g id=\"node2\" class=\"node\"><title>1</title>\r\n",
       "<ellipse fill=\"none\" stroke=\"black\" cx=\"236.293\" cy=\"-18\" rx=\"59.2899\" ry=\"18\"/>\r\n",
       "<text text-anchor=\"middle\" x=\"236.293\" y=\"-14.3\" font-family=\"Times New Roman,serif\" font-size=\"14.00\">United States</text>\r\n",
       "</g>\r\n",
       "<!-- 2 -->\r\n",
       "<g id=\"node3\" class=\"node\"><title>2</title>\r\n",
       "<ellipse fill=\"none\" stroke=\"black\" cx=\"217.293\" cy=\"-105\" rx=\"64.9885\" ry=\"18\"/>\r\n",
       "<text text-anchor=\"middle\" x=\"217.293\" y=\"-101.3\" font-family=\"Times New Roman,serif\" font-size=\"14.00\">Barack Obama</text>\r\n",
       "</g>\r\n",
       "<!-- 2&#45;&gt;0 -->\r\n",
       "<g id=\"edge3\" class=\"edge\"><title>2&#45;&gt;0</title>\r\n",
       "<path fill=\"none\" stroke=\"black\" d=\"M156.419,-98.4426C134.737,-93.6406 111.662,-84.8801 95.293,-69 89.061,-62.9542 85.2516,-54.484 82.9247,-46.231\"/>\r\n",
       "<polygon fill=\"black\" stroke=\"black\" points=\"86.3379,-45.4561 80.7584,-36.4494 79.5035,-46.9697 86.3379,-45.4561\"/>\r\n",
       "<text text-anchor=\"middle\" x=\"116.793\" y=\"-57.8\" font-family=\"Times New Roman,serif\" font-size=\"14.00\">married</text>\r\n",
       "</g>\r\n",
       "<!-- 2&#45;&gt;1 -->\r\n",
       "<g id=\"edge1\" class=\"edge\"><title>2&#45;&gt;1</title>\r\n",
       "<path fill=\"none\" stroke=\"black\" d=\"M174.583,-91.342C153.709,-82.8173 135.227,-70.1763 146.293,-54 151.159,-46.8863 166.635,-39.8409 183.413,-33.9564\"/>\r\n",
       "<polygon fill=\"black\" stroke=\"black\" points=\"184.993,-37.1189 193.371,-30.6341 182.778,-30.4787 184.993,-37.1189\"/>\r\n",
       "<text text-anchor=\"middle\" x=\"206.793\" y=\"-57.8\" font-family=\"Times New Roman,serif\" font-size=\"14.00\">was 44th president of</text>\r\n",
       "</g>\r\n",
       "<!-- 2&#45;&gt;1 -->\r\n",
       "<g id=\"edge2\" class=\"edge\"><title>2&#45;&gt;1</title>\r\n",
       "<path fill=\"none\" stroke=\"black\" d=\"M248.328,-89.0696C255.897,-83.838 263.036,-77.1766 267.293,-69 271.821,-60.3031 268.594,-51.0977 262.791,-42.988\"/>\r\n",
       "<polygon fill=\"black\" stroke=\"black\" points=\"265.439,-40.6991 256.321,-35.3031 260.084,-45.2073 265.439,-40.6991\"/>\r\n",
       "<text text-anchor=\"middle\" x=\"315.793\" y=\"-57.8\" font-family=\"Times New Roman,serif\" font-size=\"14.00\">was president of</text>\r\n",
       "</g>\r\n",
       "<!-- 3 -->\r\n",
       "<g id=\"node4\" class=\"node\"><title>3</title>\r\n",
       "<ellipse fill=\"none\" stroke=\"black\" cx=\"405.293\" cy=\"-18\" rx=\"90.1842\" ry=\"18\"/>\r\n",
       "<text text-anchor=\"middle\" x=\"405.293\" y=\"-14.3\" font-family=\"Times New Roman,serif\" font-size=\"14.00\">Trinity United Church</text>\r\n",
       "</g>\r\n",
       "<!-- 2&#45;&gt;3 -->\r\n",
       "<g id=\"edge4\" class=\"edge\"><title>2&#45;&gt;3</title>\r\n",
       "<path fill=\"none\" stroke=\"black\" d=\"M278.949,-98.9594C307.308,-94.3661 340.335,-85.6216 366.293,-69 375.75,-62.9447 383.862,-53.7771 390.2,-44.9386\"/>\r\n",
       "<polygon fill=\"black\" stroke=\"black\" points=\"393.298,-46.6001 395.93,-36.3373 387.473,-42.7189 393.298,-46.6001\"/>\r\n",
       "<text text-anchor=\"middle\" x=\"464.793\" y=\"-57.8\" font-family=\"Times New Roman,serif\" font-size=\"14.00\">married Michelle Robinson at</text>\r\n",
       "</g>\r\n",
       "</g>\r\n",
       "</svg>\r\n"
      ],
      "text/plain": [
       "<graphviz.dot.Digraph at 0x1dd3bfd2460>"
      ]
     },
     "execution_count": 58,
     "metadata": {},
     "output_type": "execute_result"
    }
   ],
   "source": [
    "dot.render('kb-demo', view=True) \n",
    "dot"
   ]
  },
  {
   "cell_type": "code",
   "execution_count": null,
   "metadata": {},
   "outputs": [],
   "source": []
  }
 ],
 "metadata": {
  "kernelspec": {
   "display_name": "Python 3",
   "language": "python",
   "name": "python3"
  },
  "language_info": {
   "codemirror_mode": {
    "name": "ipython",
    "version": 3
   },
   "file_extension": ".py",
   "mimetype": "text/x-python",
   "name": "python",
   "nbconvert_exporter": "python",
   "pygments_lexer": "ipython3",
   "version": "3.8.8"
  }
 },
 "nbformat": 4,
 "nbformat_minor": 2
}
