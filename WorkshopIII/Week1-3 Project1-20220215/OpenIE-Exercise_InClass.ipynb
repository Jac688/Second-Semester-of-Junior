{
 "cells": [
  {
   "cell_type": "markdown",
   "metadata": {},
   "source": [
    "## Open Information Extraction\n",
    "Open information extraction (open IE) refers to the extraction of relation tuples, typically binary relations, from plain text, such as (Mark Zuckerberg; founded; Facebook). The central difference from other information extraction is that the schema for these relations does not need to be specified in advance; typically the relation name is just the text linking two arguments.\n",
    "- StanfordOpenIE (https://nlp.stanford.edu/software/openie.html) StanfordOpenIE is part of StanfordCoreNLP, which is built on top of PyTorch 1.0.0. \n",
    " - Therefore, first install pytorch (https://pytorch.org/get-started/locally/), select your  os, package, language, cuda , then use the   command to install.\n",
    " - Install StanfordOpenIE using ``pip install stanford-openie``(https://pypi.org/project/stanford-openie/)\n",
    " - Install Java SE Development Kit 8 (https://www.oracle.com/technetwork/java/javase/downloads/jdk8-downloads-2133151.html/)\n",
    " - Install graphviz : conda install python-graphviz\n",
    " - Unzip the stanford-corenlp-full-2018-10-05.zip to \"C:\\Users\\UIC\\stanfordnlp_resources\""
   ]
  },
  {
   "cell_type": "code",
   "execution_count": 2,
   "metadata": {},
   "outputs": [],
   "source": [
    "import nltk\n",
    "from nltk import pos_tag, word_tokenize, ne_chunk, Tree\n",
    "from openie import StanfordOpenIE\n",
    "from graphviz import Digraph"
   ]
  },
  {
   "cell_type": "markdown",
   "metadata": {},
   "source": [
    "### Triple Extraction from text using ``StanfordOpenIE``\n",
    "\n",
    "data type: triple is a python dict with three elememts as follows:\n",
    "- {'subject':value1, 'relation':value2, 'object':value3}"
   ]
  },
  {
   "cell_type": "code",
   "execution_count": 3,
   "metadata": {},
   "outputs": [
    {
     "name": "stdout",
     "output_type": "stream",
     "text": [
      "Downloading from https://nlp.stanford.edu/software/stanford-corenlp-4.1.0.zip.\n",
      "100% [......................................................................] 504773765 / 504773765\n",
      "Extracting to C:\\Users\\56492\\.stanfordnlp_resources.\n",
      "Unzip C:\\Users\\56492\\.stanfordnlp_resources/stanford-corenlp-4.1.0.zip.\n",
      "Text: Barack Obama was the 44th president of the United States.\n",
      "Starting server with command: java -Xmx8G -cp C:\\Users\\56492\\.stanfordnlp_resources\\stanford-corenlp-4.1.0/* edu.stanford.nlp.pipeline.StanfordCoreNLPServer -port 9000 -timeout 60000 -threads 5 -maxCharLength 100000 -quiet True -serverProperties corenlp_server-6b13c8c5b1e2432e.props -preload openie\n",
      "<class 'dict'>\n",
      "|- {'subject': 'Barack Obama', 'relation': 'was 44th president of', 'object': 'United States'}\n",
      "<class 'dict'>\n",
      "|- {'subject': 'Barack Obama', 'relation': 'was president of', 'object': 'United States'}\n",
      "<class 'dict'>\n",
      "|- {'subject': 'Barack Obama', 'relation': 'was', 'object': 'president'}\n",
      "<class 'dict'>\n",
      "|- {'subject': 'Barack Obama', 'relation': 'was', 'object': '44th president'}\n"
     ]
    }
   ],
   "source": [
    "# Example code for using StanfordOpenIE in python\n",
    "from openie import StanfordOpenIE\n",
    "\n",
    "with StanfordOpenIE() as client:\n",
    "    text = 'Barack Obama was the 44th president of the United States'\n",
    "    print('Text: %s.' % text)\n",
    "    for triple in client.annotate(text):\n",
    "        print(type(triple))\n",
    "        print('|-', triple)"
   ]
  },
  {
   "cell_type": "code",
   "execution_count": 4,
   "metadata": {},
   "outputs": [
    {
     "name": "stdout",
     "output_type": "stream",
     "text": [
      "Starting server with command: java -Xmx8G -cp C:\\Users\\56492\\.stanfordnlp_resources\\stanford-corenlp-4.1.0/* edu.stanford.nlp.pipeline.StanfordCoreNLPServer -port 9000 -timeout 60000 -threads 5 -maxCharLength 100000 -quiet True -serverProperties corenlp_server-775bbc3074d94436.props -preload openie\n",
      "<class 'dict'>\n",
      "|- {'subject': 'Barack Obama', 'relation': 'was 44th president of', 'object': 'United States'}\n",
      "<class 'dict'>\n",
      "|- {'subject': 'Barack Obama', 'relation': 'was president of', 'object': 'United States'}\n",
      "<class 'dict'>\n",
      "|- {'subject': 'Barack Obama', 'relation': 'was', 'object': 'president'}\n",
      "<class 'dict'>\n",
      "|- {'subject': 'Barack Obama', 'relation': 'was', 'object': '44th president'}\n"
     ]
    }
   ],
   "source": [
    "#you can also do it without with statement as the following \n",
    "client =  StanfordOpenIE()\n",
    "text = 'Barack Obama was the 44th president of the United States'\n",
    "#print('Text: %s.' % text)\n",
    "for triple in client.annotate(text):\n",
    "    print(type(triple))\n",
    "    print('|-', triple)"
   ]
  },
  {
   "cell_type": "markdown",
   "metadata": {},
   "source": [
    "For each sentence, StanfordOpenIE will return several triples with high confidence scores. "
   ]
  },
  {
   "cell_type": "code",
   "execution_count": 5,
   "metadata": {},
   "outputs": [
    {
     "name": "stdout",
     "output_type": "stream",
     "text": [
      "Starting server with command: java -Xmx8G -cp C:\\Users\\56492\\.stanfordnlp_resources\\stanford-corenlp-4.1.0/* edu.stanford.nlp.pipeline.StanfordCoreNLPServer -port 9000 -timeout 60000 -threads 5 -maxCharLength 100000 -quiet True -serverProperties corenlp_server-20f4349079b84805.props -preload openie\n",
      "Extracted Triples:\n",
      "['Barack Obama', 'was 44th president of', 'United States']\n",
      "['Barack Obama', 'was president of', 'United States']\n",
      "['Barack Obama', 'was', 'president']\n",
      "['Barack Obama', 'was', '44th president']\n",
      "['Trinity United Church', 'is in', 'Chicago']\n",
      "['Barack Obama', 'married', 'Michelle Robinson']\n",
      "['Barack Obama', 'married Michelle Robinson at', 'Trinity United Church']\n",
      "['Barack Obama', 'married Michelle Robinson at', 'Trinity United Church in Chicago']\n",
      "['Barack Obama', 'married Michelle Robinson On', 'October 3 1992']\n"
     ]
    }
   ],
   "source": [
    "def extract_triple(text):\n",
    "    triples = []\n",
    "    client =  StanfordOpenIE()\n",
    "    for triple in client.annotate(text):\n",
    "        triples.append([triple['subject'], triple['relation'],  triple['object']])    \n",
    "    return triples\n",
    "\n",
    "\n",
    "triples = extract_triple(\"\"\" Barack Obama was the 44th president of the United States, and the first African American to serve in the office.\n",
    "          On October 3, 1992,  Barack Obama married  Michelle Robinson at Trinity United Church in Chicago. \"\"\")\n",
    "\n",
    "print(\"Extracted Triples:\")\n",
    "for t in triples:\n",
    "    print(t)"
   ]
  },
  {
   "cell_type": "code",
   "execution_count": 6,
   "metadata": {},
   "outputs": [
    {
     "name": "stdout",
     "output_type": "stream",
     "text": [
      "['Barack Obama', 'United States', 'Barack Obama', 'United States', 'Barack Obama', 'president', 'Barack Obama', '44th president', 'Trinity United Church', 'Chicago', 'Barack Obama', 'Michelle Robinson', 'Barack Obama', 'Trinity United Church', 'Barack Obama', 'Trinity United Church in Chicago', 'Barack Obama', 'October 3 1992']\n",
      "['was 44th president of', 'was president of', 'was', 'was', 'is in', 'married', 'married Michelle Robinson at', 'married Michelle Robinson at', 'married Michelle Robinson On']\n"
     ]
    }
   ],
   "source": [
    "# retrieve named entities and relations from triples\n",
    "ent = []\n",
    "rel = []\n",
    "for t in triples:\n",
    "    ent.append(t[0])\n",
    "    ent.append(t[2])\n",
    "    rel.append(t[1])\n",
    "\n",
    "print(ent)\n",
    "print(rel)"
   ]
  },
  {
   "cell_type": "code",
   "execution_count": 7,
   "metadata": {},
   "outputs": [
    {
     "name": "stdout",
     "output_type": "stream",
     "text": [
      "{'44th president', 'president', 'Barack Obama', 'Michelle Robinson', 'United States', 'Trinity United Church in Chicago', 'Trinity United Church', 'Chicago', 'October 3 1992'}\n",
      "{'was', 'is in', 'was president of', 'married Michelle Robinson at', 'married', 'was 44th president of', 'married Michelle Robinson On'}\n"
     ]
    }
   ],
   "source": [
    "# find unique entities and relations \n",
    "unent = set(ent)\n",
    "unrel = set(rel)\n",
    "print(unent)\n",
    "print(unrel)"
   ]
  },
  {
   "cell_type": "markdown",
   "metadata": {},
   "source": [
    "To further refine the results, we can perform filtering by some constraints:\n",
    "\n",
    "- The subjet and object must be named entity from some predfined types\n",
    "- The relation must be verb or verb phrases (chunk rule)\n",
    "\n",
    "Come up with your own refinement strategy to get a better result."
   ]
  },
  {
   "cell_type": "code",
   "execution_count": 23,
   "metadata": {
    "scrolled": false
   },
   "outputs": [
    {
     "name": "stdout",
     "output_type": "stream",
     "text": [
      "(S\n",
      "  (PERSON Barack/NNP)\n",
      "  (PERSON Obama/NNP)\n",
      "  was/VBD\n",
      "  the/DT\n",
      "  44th/JJ\n",
      "  president/NN\n",
      "  of/IN\n",
      "  the/DT\n",
      "  (GPE United/NNP States/NNPS)\n",
      "  ,/,\n",
      "  and/CC\n",
      "  the/DT\n",
      "  first/JJ\n",
      "  (ORGANIZATION African/JJ American/NNP)\n",
      "  to/TO\n",
      "  serve/VB\n",
      "  in/IN\n",
      "  the/DT\n",
      "  office/NN\n",
      "  ./.\n",
      "  On/IN\n",
      "  October/NNP\n",
      "  3/CD\n",
      "  ,/,\n",
      "  1992/CD\n",
      "  ,/,\n",
      "  (PERSON Barack/NNP Obama/NNP)\n",
      "  married/VBD\n",
      "  (PERSON Michelle/NNP Robinson/NNP)\n",
      "  at/IN\n",
      "  (ORGANIZATION Trinity/NNP United/NNP Church/NNP)\n",
      "  in/IN\n",
      "  (GPE Chicago/NNP)\n",
      "  ./.)\n",
      "Starting server with command: java -Xmx8G -cp C:\\Users\\56492\\.stanfordnlp_resources\\stanford-corenlp-4.1.0/* edu.stanford.nlp.pipeline.StanfordCoreNLPServer -port 9000 -timeout 60000 -threads 5 -maxCharLength 100000 -quiet True -serverProperties corenlp_server-392fc1bba8ed4dcc.props -preload openie\n",
      "Extracted Triples:\n",
      "['Barack Obama', 'was 44th president of', 'United States']\n",
      "['Barack Obama', 'was president of', 'United States']\n",
      "['Trinity United Church', 'is in', 'Chicago']\n",
      "['Barack Obama', 'married', 'Michelle Robinson']\n",
      "['Barack Obama', 'married Michelle Robinson at', 'Trinity United Church']\n"
     ]
    }
   ],
   "source": [
    "def extract_triple(text):\n",
    "    # your implementation\n",
    "    entity = []\n",
    "    chunks = ne_chunk(pos_tag(word_tokenize(text)))\n",
    "    print(chunks)\n",
    "    for i in chunks:\n",
    "        if type(i) == Tree:\n",
    "            tokens = []\n",
    "            for token,pos in i.leaves():\n",
    "                tokens.append(token)\n",
    "            new_tok = ' '.join(tokens)\n",
    "            entity.append(new_tok)\n",
    "    \n",
    "    # obtain chunks using ne_chunk()\n",
    "    # store all tokens of named entities(chunks) in a python list\n",
    "    triples = []\n",
    "    client =  StanfordOpenIE()\n",
    "    for triple in client.annotate(text):\n",
    "        if triple['subject'] in entity and triple['object'] in entity:\n",
    "            triples.append([triple['subject'], triple['relation'],  triple['object']])  \n",
    "    # in order to get the right triple this time,\n",
    "    # you have to if the triple['subject'] and triple['object'] in \n",
    "    # the above named entities list or not        \n",
    "    return triples           \n",
    "\n",
    "\n",
    "triples = extract_triple(\"\"\" Barack Obama was the 44th president of the United States, and the first African American to serve in the office.\n",
    "          On October 3, 1992,  Barack Obama married  Michelle Robinson at Trinity United Church in Chicago. \"\"\")\n",
    "\n",
    "print(\"Extracted Triples:\")\n",
    "for t in triples:\n",
    "    print(t)"
   ]
  },
  {
   "cell_type": "markdown",
   "metadata": {},
   "source": [
    "### Construct the KB from Triples\n",
    "Given the knowledge triples, we need to index all the entities and relations, i.e.,get the entity set and relation set, and represent each triple using entity id and relation id."
   ]
  },
  {
   "cell_type": "code",
   "execution_count": 24,
   "metadata": {},
   "outputs": [
    {
     "name": "stdout",
     "output_type": "stream",
     "text": [
      "<zip object at 0x000001FF2325D0C0>\n",
      "(1, 'Jenny')\n",
      "(2, 'Christy')\n",
      "(3, 'Monica')\n",
      "{1: 'Jenny', 2: 'Christy', 3: 'Monica'}\n"
     ]
    }
   ],
   "source": [
    "# zip function\n",
    "a = (1, 2, 3)\n",
    "b = (\"Jenny\", \"Christy\", \"Monica\")\n",
    "\n",
    "z = zip(a, b)\n",
    "print(z)\n",
    "for i in z:\n",
    "    print(i)\n",
    "    \n",
    "d = dict(zip(a,b))\n",
    "print(d)"
   ]
  },
  {
   "cell_type": "code",
   "execution_count": 25,
   "metadata": {},
   "outputs": [
    {
     "name": "stdout",
     "output_type": "stream",
     "text": [
      "{'Barack Obama', 'Michelle Robinson', 'United States', 'Trinity United Church', 'Chicago'}\n",
      "range(0, 5)\n",
      "(0, 'Barack Obama')\n",
      "(1, 'Michelle Robinson')\n",
      "(2, 'United States')\n",
      "(3, 'Trinity United Church')\n",
      "(4, 'Chicago')\n",
      "{0: 'Barack Obama', 1: 'Michelle Robinson', 2: 'United States', 3: 'Trinity United Church', 4: 'Chicago'}\n"
     ]
    }
   ],
   "source": [
    "#input: \n",
    "ent = ['Barack Obama', 'United States', \n",
    "       'Barack Obama', 'United States', \n",
    "       'Trinity United Church', 'Chicago', \n",
    "       'Barack Obama', 'Michelle Robinson', \n",
    "       'Barack Obama', 'Trinity United Church']\n",
    "\n",
    "# create a dictionary using zip function for input named entities:\n",
    "# {0: 'Michelle Robinson', 1: 'United States', 2: 'Chicago', 3: 'Trinity United Church', 4: 'Barack Obama'}\n",
    "\n",
    "# you should find out all unique named entities, but our input named entities above are not unique\n",
    "# thus, you have to remove duplicate named entities\n",
    "unent = set(ent)\n",
    "print(unent)\n",
    "#output: {'Michelle Robinson', 'United States', 'Chicago', 'Trinity United Church', 'Barack Obama'}\n",
    "\n",
    "#create a dictionary for this unique named entities\n",
    "ind = range(len(unent))\n",
    "print(ind)\n",
    "id_en = zip(ind, unent)\n",
    "for i in id_en:\n",
    "    print(i)\n",
    "    \n",
    "id_en_dic = dict(zip(ind, unent))\n",
    "print(id_en_dic)\n",
    "#output: {0: 'Michelle Robinson', 1: 'United States', 2: 'Chicago', 3: 'Trinity United Church', 4: 'Barack Obama'}"
   ]
  },
  {
   "cell_type": "code",
   "execution_count": 55,
   "metadata": {
    "scrolled": true
   },
   "outputs": [
    {
     "name": "stdout",
     "output_type": "stream",
     "text": [
      "Entities: {0: 'Barack Obama', 1: 'Michelle Robinson', 2: 'United States', 3: 'Trinity United Church', 4: 'Chicago'} \n",
      "Relations: {0: 'is in', 1: 'was president of', 2: 'married', 3: 'married Michelle Robinson at', 4: 'was 44th president of'} \n",
      "Triples: [[0, 4, 2], [0, 1, 2], [3, 0, 4], [0, 2, 1], [0, 3, 3]]\n"
     ]
    }
   ],
   "source": [
    "def KB(triples):\n",
    "    \n",
    "    # store named entities (subject and object) of triples to one list\n",
    "    # store relation of triples to another list\n",
    "    # refer to the above sample code\n",
    "    ent = []\n",
    "    rel = []\n",
    "    for i in triples:\n",
    "        ent.append(i[2])\n",
    "        ent.append(i[0])\n",
    "        rel.append(i[1])\n",
    "    unent = set(ent)\n",
    "    ind = range(len(unent))\n",
    "    id_en = dict(zip(ind, unent))\n",
    "#     print(id_en)\n",
    "\n",
    "    # create two dictionaries using zip function\n",
    "    # one for named entities:\n",
    "    # {0: 'Michelle Robinson', 1: 'United States', 2: 'Chicago', 3: 'Trinity United Church', 4: 'Barack Obama'}  \n",
    "    # refer to the above sample code\n",
    "    \n",
    "    unrel = set(rel)\n",
    "    id_re = dict(zip(ind, unrel))\n",
    "#     print(id_re)\n",
    "    # another one for relation:\n",
    "    # {0: 'married', 1: 'married Michelle Robinson at', 2: 'was 44th president of', \n",
    "    # 3: 'was president of', 4: 'is in'} \n",
    "     \n",
    "    triples_id = []\n",
    "    for i in triples:\n",
    "        idx = []\n",
    "        idx.append(list(id_en.keys())[list(id_en.values()).index(i[0])])\n",
    "        idx.append(list(id_re.keys())[list(id_re.values()).index(i[1])])\n",
    "        idx.append(list(id_en.keys())[list(id_en.values()).index(i[2])])\n",
    "        triples_id.append(idx)\n",
    "    # create a 2d list for triples from\n",
    "    # [{'subject':'Barack Obama', 'relation':'was 44th president of', 'object':'United States'}, \n",
    "    # {'subject':'Barack Obama', 'relation':'was president of', 'object':'United States'},\n",
    "    # {'subject':'Trinity United Church', 'relation':'is in', 'object':'Chicago'},\n",
    "    # {'subject':'Barack Obama', 'relation':'married', 'object':'Michelle Robinson'},\n",
    "    # {'subject':'Barack Obama', 'relation':'married Michelle Robinson at', 'object':'Trinity United Church'}]\n",
    "    # to \n",
    "    # [[4, 2, 1], [4, 3, 1], [3, 4, 2], [4, 0, 0], [4, 1, 3]]\n",
    "    \n",
    "\n",
    "        \n",
    "    #return three newly created dictionaries for entities, relations and triples\n",
    "    return id_en,id_re,triples_id\n",
    "\n",
    "#\n",
    "kb = KB(triples)\n",
    "print(\"Entities:\", kb[0], \"\\nRelations:\",kb[1], \"\\nTriples:\",kb[2])\n"
   ]
  },
  {
   "cell_type": "markdown",
   "metadata": {},
   "source": [
    "### Visualize the KB using ``graphviz``\n",
    "- To render the graph, the dependency is a working installation of ``Graphviz`` (https://www.graphviz.org/download/).\n",
    "- After installing Graphviz, make sure that its ``bin/`` subdirectory containing the layout commands for rendering graph descriptions (dot, circo, neato, etc.) is on your systems’ path: On the command-line, ``dot -V`` should print the version of your Graphiz installation. \n",
    "- for Windows OS, you need to add Graphviz installation path (for example C:\\Program Files\\Graphviz\\bin) to enviromnet variable path.\n",
    "- Refer to https://graphviz.readthedocs.io/en/stable/manual.html for the user guide of graphviz"
   ]
  },
  {
   "cell_type": "code",
   "execution_count": 94,
   "metadata": {
    "scrolled": true
   },
   "outputs": [
    {
     "name": "stdout",
     "output_type": "stream",
     "text": [
      "// KB-Demo\n",
      "digraph {\n",
      "}\n",
      "// KB-Demo\n",
      "digraph {\n",
      "\t0 [label=\"Barack Obama\"]\n",
      "\t1 [label=\"Michelle Robinson\"]\n",
      "\t2 [label=\"United States\"]\n",
      "\t3 [label=\"Trinity United Church\"]\n",
      "\t4 [label=Chicago]\n",
      "\t0 -> 2 [label=\"was 44th president of\"]\n",
      "\t0 -> 2 [label=\"was president of\"]\n",
      "\t3 -> 4 [label=\"is in\"]\n",
      "\t0 -> 1 [label=married]\n",
      "\t0 -> 3 [label=\"married Michelle Robinson at\"]\n",
      "}\n"
     ]
    }
   ],
   "source": [
    "# input:kb_input is the knowledge graph info we obtained in the above step, which is kb\n",
    "def visualizeKB(kb_input):\n",
    "    dot = Digraph(comment='KB-Demo')    \n",
    "    print(dot)\n",
    "    \n",
    "    #kb_input[0] is entity dict\n",
    "    #kb_input[1] is the relation dict\n",
    "    #kb_input[2] is the triple dict\n",
    "    for i in range(len(kb_input[0])):\n",
    "        dot.node(str(list(kb[0].keys())[i]), kb[0][i])\n",
    "    for i in range(len(kb_input[0])):\n",
    "        dot.edge(str(kb_input[2][i][0]), str(kb_input[2][i][2]), kb_input[1][kb_input[2][i][1]])\n",
    "    # please read graphviz doc on how to create a graph based on the kb info we have\n",
    "    # before you start do this, please frist go through \n",
    "    #  https://graphviz.readthedocs.io/en/stable/manual.html\n",
    " \n",
    "    return dot\n",
    "\n",
    "dot = visualizeKB(kb)\n",
    "print(dot.source)"
   ]
  },
  {
   "cell_type": "code",
   "execution_count": 95,
   "metadata": {},
   "outputs": [
    {
     "data": {
      "image/svg+xml": [
       "<?xml version=\"1.0\" encoding=\"UTF-8\" standalone=\"no\"?>\r\n",
       "<!DOCTYPE svg PUBLIC \"-//W3C//DTD SVG 1.1//EN\"\r\n",
       " \"http://www.w3.org/Graphics/SVG/1.1/DTD/svg11.dtd\">\r\n",
       "<!-- Generated by graphviz version 2.38.0 (20140413.2041)\r\n",
       " -->\r\n",
       "<!-- Title: %3 Pages: 1 -->\r\n",
       "<svg width=\"555pt\" height=\"218pt\"\r\n",
       " viewBox=\"0.00 0.00 555.29 218.00\" xmlns=\"http://www.w3.org/2000/svg\" xmlns:xlink=\"http://www.w3.org/1999/xlink\">\r\n",
       "<g id=\"graph0\" class=\"graph\" transform=\"scale(1 1) rotate(0) translate(4 214)\">\r\n",
       "<title>%3</title>\r\n",
       "<polygon fill=\"white\" stroke=\"none\" points=\"-4,4 -4,-214 551.293,-214 551.293,4 -4,4\"/>\r\n",
       "<!-- 0 -->\r\n",
       "<g id=\"node1\" class=\"node\"><title>0</title>\r\n",
       "<ellipse fill=\"none\" stroke=\"black\" cx=\"217.293\" cy=\"-192\" rx=\"64.9885\" ry=\"18\"/>\r\n",
       "<text text-anchor=\"middle\" x=\"217.293\" y=\"-188.3\" font-family=\"Times New Roman,serif\" font-size=\"14.00\">Barack Obama</text>\r\n",
       "</g>\r\n",
       "<!-- 1 -->\r\n",
       "<g id=\"node2\" class=\"node\"><title>1</title>\r\n",
       "<ellipse fill=\"none\" stroke=\"black\" cx=\"79.293\" cy=\"-105\" rx=\"79.0865\" ry=\"18\"/>\r\n",
       "<text text-anchor=\"middle\" x=\"79.293\" y=\"-101.3\" font-family=\"Times New Roman,serif\" font-size=\"14.00\">Michelle Robinson</text>\r\n",
       "</g>\r\n",
       "<!-- 0&#45;&gt;1 -->\r\n",
       "<g id=\"edge4\" class=\"edge\"><title>0&#45;&gt;1</title>\r\n",
       "<path fill=\"none\" stroke=\"black\" d=\"M156.419,-185.443C134.737,-180.641 111.662,-171.88 95.293,-156 89.061,-149.954 85.2516,-141.484 82.9247,-133.231\"/>\r\n",
       "<polygon fill=\"black\" stroke=\"black\" points=\"86.3379,-132.456 80.7584,-123.449 79.5035,-133.97 86.3379,-132.456\"/>\r\n",
       "<text text-anchor=\"middle\" x=\"116.793\" y=\"-144.8\" font-family=\"Times New Roman,serif\" font-size=\"14.00\">married</text>\r\n",
       "</g>\r\n",
       "<!-- 2 -->\r\n",
       "<g id=\"node3\" class=\"node\"><title>2</title>\r\n",
       "<ellipse fill=\"none\" stroke=\"black\" cx=\"236.293\" cy=\"-105\" rx=\"59.2899\" ry=\"18\"/>\r\n",
       "<text text-anchor=\"middle\" x=\"236.293\" y=\"-101.3\" font-family=\"Times New Roman,serif\" font-size=\"14.00\">United States</text>\r\n",
       "</g>\r\n",
       "<!-- 0&#45;&gt;2 -->\r\n",
       "<g id=\"edge1\" class=\"edge\"><title>0&#45;&gt;2</title>\r\n",
       "<path fill=\"none\" stroke=\"black\" d=\"M174.583,-178.342C153.709,-169.817 135.227,-157.176 146.293,-141 151.159,-133.886 166.635,-126.841 183.413,-120.956\"/>\r\n",
       "<polygon fill=\"black\" stroke=\"black\" points=\"184.993,-124.119 193.371,-117.634 182.778,-117.479 184.993,-124.119\"/>\r\n",
       "<text text-anchor=\"middle\" x=\"206.793\" y=\"-144.8\" font-family=\"Times New Roman,serif\" font-size=\"14.00\">was 44th president of</text>\r\n",
       "</g>\r\n",
       "<!-- 0&#45;&gt;2 -->\r\n",
       "<g id=\"edge2\" class=\"edge\"><title>0&#45;&gt;2</title>\r\n",
       "<path fill=\"none\" stroke=\"black\" d=\"M248.328,-176.07C255.897,-170.838 263.036,-164.177 267.293,-156 271.821,-147.303 268.594,-138.098 262.791,-129.988\"/>\r\n",
       "<polygon fill=\"black\" stroke=\"black\" points=\"265.439,-127.699 256.321,-122.303 260.084,-132.207 265.439,-127.699\"/>\r\n",
       "<text text-anchor=\"middle\" x=\"315.793\" y=\"-144.8\" font-family=\"Times New Roman,serif\" font-size=\"14.00\">was president of</text>\r\n",
       "</g>\r\n",
       "<!-- 3 -->\r\n",
       "<g id=\"node4\" class=\"node\"><title>3</title>\r\n",
       "<ellipse fill=\"none\" stroke=\"black\" cx=\"405.293\" cy=\"-105\" rx=\"90.1842\" ry=\"18\"/>\r\n",
       "<text text-anchor=\"middle\" x=\"405.293\" y=\"-101.3\" font-family=\"Times New Roman,serif\" font-size=\"14.00\">Trinity United Church</text>\r\n",
       "</g>\r\n",
       "<!-- 0&#45;&gt;3 -->\r\n",
       "<g id=\"edge5\" class=\"edge\"><title>0&#45;&gt;3</title>\r\n",
       "<path fill=\"none\" stroke=\"black\" d=\"M278.949,-185.959C307.308,-181.366 340.335,-172.622 366.293,-156 375.75,-149.945 383.862,-140.777 390.2,-131.939\"/>\r\n",
       "<polygon fill=\"black\" stroke=\"black\" points=\"393.298,-133.6 395.93,-123.337 387.473,-129.719 393.298,-133.6\"/>\r\n",
       "<text text-anchor=\"middle\" x=\"464.793\" y=\"-144.8\" font-family=\"Times New Roman,serif\" font-size=\"14.00\">married Michelle Robinson at</text>\r\n",
       "</g>\r\n",
       "<!-- 4 -->\r\n",
       "<g id=\"node5\" class=\"node\"><title>4</title>\r\n",
       "<ellipse fill=\"none\" stroke=\"black\" cx=\"405.293\" cy=\"-18\" rx=\"40.8928\" ry=\"18\"/>\r\n",
       "<text text-anchor=\"middle\" x=\"405.293\" y=\"-14.3\" font-family=\"Times New Roman,serif\" font-size=\"14.00\">Chicago</text>\r\n",
       "</g>\r\n",
       "<!-- 3&#45;&gt;4 -->\r\n",
       "<g id=\"edge3\" class=\"edge\"><title>3&#45;&gt;4</title>\r\n",
       "<path fill=\"none\" stroke=\"black\" d=\"M405.293,-86.799C405.293,-75.1626 405.293,-59.5479 405.293,-46.2368\"/>\r\n",
       "<polygon fill=\"black\" stroke=\"black\" points=\"408.793,-46.1754 405.293,-36.1754 401.793,-46.1755 408.793,-46.1754\"/>\r\n",
       "<text text-anchor=\"middle\" x=\"416.793\" y=\"-57.8\" font-family=\"Times New Roman,serif\" font-size=\"14.00\">is in</text>\r\n",
       "</g>\r\n",
       "</g>\r\n",
       "</svg>\r\n"
      ],
      "text/plain": [
       "<graphviz.dot.Digraph at 0x1ff21fc41f0>"
      ]
     },
     "execution_count": 95,
     "metadata": {},
     "output_type": "execute_result"
    }
   ],
   "source": [
    "dot.render('kb-demo', view=True) \n",
    "dot"
   ]
  },
  {
   "cell_type": "code",
   "execution_count": null,
   "metadata": {},
   "outputs": [],
   "source": []
  }
 ],
 "metadata": {
  "kernelspec": {
   "display_name": "Python 3",
   "language": "python",
   "name": "python3"
  },
  "language_info": {
   "codemirror_mode": {
    "name": "ipython",
    "version": 3
   },
   "file_extension": ".py",
   "mimetype": "text/x-python",
   "name": "python",
   "nbconvert_exporter": "python",
   "pygments_lexer": "ipython3",
   "version": "3.8.8"
  }
 },
 "nbformat": 4,
 "nbformat_minor": 2
}
