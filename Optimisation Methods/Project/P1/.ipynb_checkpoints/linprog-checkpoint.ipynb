{
 "cells": [
  {
   "cell_type": "code",
   "execution_count": 2,
   "id": "4ffc5d67",
   "metadata": {},
   "outputs": [],
   "source": [
    "import numpy as np\n",
    "from scipy.optimize import linprog\n",
    "import warnings "
   ]
  },
  {
   "cell_type": "code",
   "execution_count": 11,
   "id": "4a9118a3",
   "metadata": {},
   "outputs": [
    {
     "data": {
      "text/plain": [
       "     con: array([], dtype=float64)\n",
       "     fun: 6.359786469219375e-13\n",
       " message: 'Optimization terminated successfully.'\n",
       "     nit: 6\n",
       "   slack: array([ 5.88439852, 10.09328374, 59.70520049, 59.34322906])\n",
       "  status: 0\n",
       " success: True\n",
       "       x: array([8.01147867e-15, 8.96990590e-15, 2.94799508e-01, 6.56770938e-01])"
      ]
     },
     "execution_count": 11,
     "metadata": {},
     "output_type": "execute_result"
    }
   ],
   "source": [
    "goal = np.array([29, 45, 0, 0])\n",
    "limit = np.array([[1, -1, -3, 0], [2, -3, -7, 3], [2, 8, 1, 0], [4, 4, 0, 1]])\n",
    "res = [5, 10, 60, 60]\n",
    "bound_1 = (0, None)\n",
    "bound_2 = (0, None)\n",
    "bound_3 = (None, 0.5)\n",
    "bound_4 = (-3, None)\n",
    "bounds = (bound_1, bound_2, bound_3, bound_4)\n",
    "linprog(goal, limit, res, bounds=bounds)"
   ]
  },
  {
   "cell_type": "markdown",
   "id": "6ab9a565",
   "metadata": {},
   "source": [
    "### 1."
   ]
  },
  {
   "cell_type": "raw",
   "id": "88e93fbc",
   "metadata": {},
   "source": [
    "c = [29, 45, 0, 0]\n",
    "A_ub = [1, -1, -3, 0;\n",
    "        -2, 3, 7, -3]\n",
    "b_ub = [5; 10]\n",
    "A-eq = [2, 8, 1, 0;\n",
    "        4, 4, 0, 1]\n",
    "b_eq = [60; 60] \n",
    "l = [0, 0, -Inf, -3]\n",
    "u = [Inf, Inf, 0.5, Inf]"
   ]
  },
  {
   "cell_type": "code",
   "execution_count": 30,
   "id": "c01fa1ba",
   "metadata": {},
   "outputs": [
    {
     "data": {
      "text/plain": [
       "     con: array([15.5361182 , 16.61287594])\n",
       "     fun: -370.232236243415\n",
       " message: 'The algorithm terminated successfully and determined that the problem is infeasible.'\n",
       "     nit: 6\n",
       "   slack: array([ 0.79315048, -1.76308648])\n",
       "  status: 2\n",
       " success: False\n",
       "       x: array([ 6.60059421,  3.97366676, -0.52664069,  1.09008018])"
      ]
     },
     "execution_count": 30,
     "metadata": {},
     "output_type": "execute_result"
    }
   ],
   "source": [
    "c = np.array([-29, -45, 0, 0])\n",
    "A_ub = np.array([[1, -1, -3, 0], [-2, 3, 7, -3]])\n",
    "b_ub = np.array([5, -10])\n",
    "A_eq = np.array([[2, 8, 1, 0], [4, 4, 0, 1]])\n",
    "b_eq = np.array([60, 60])\n",
    "bound_1 = (0, None)\n",
    "bound_2 = (0, 5)\n",
    "bound_3 = (None, 0.5)\n",
    "bound_4 = (-3, None)\n",
    "bounds = (bound_1, bound_2, bound_3, bound_4)\n",
    "linprog(c,A_ub,b_ub,A_eq,b_eq,bounds=bounds)"
   ]
  },
  {
   "cell_type": "code",
   "execution_count": 32,
   "id": "ebd7c908",
   "metadata": {},
   "outputs": [
    {
     "data": {
      "text/plain": [
       "370.232236243415"
      ]
     },
     "execution_count": 32,
     "metadata": {},
     "output_type": "execute_result"
    }
   ],
   "source": [
    "-linprog(c,A_ub,b_ub,A_eq,b_eq,bounds=bounds).fun"
   ]
  },
  {
   "cell_type": "markdown",
   "id": "878cec24",
   "metadata": {},
   "source": [
    "### 2."
   ]
  },
  {
   "cell_type": "code",
   "execution_count": 23,
   "id": "4003ad2c",
   "metadata": {},
   "outputs": [
    {
     "data": {
      "text/plain": [
       "     con: array([4.72939301, 3.15248871])\n",
       "     fun: -611023516879.9122\n",
       " message: 'The algorithm terminated successfully and determined that the problem is unbounded.'\n",
       "     nit: 4\n",
       "   slack: array([], dtype=float64)\n",
       "  status: 3\n",
       " success: False\n",
       "       x: array([5.09186264e+10, 1.27296566e+11, 5.09186264e+10])"
      ]
     },
     "execution_count": 23,
     "metadata": {},
     "output_type": "execute_result"
    }
   ],
   "source": [
    "c = np.array([-1, -4, -1])\n",
    "# A_ub = np.array([])\n",
    "# b_ub = np.array([])\n",
    "A_eq = np.array([[2, -2, 3], [1, 0, -1]])\n",
    "b_eq = np.array([4, 1])\n",
    "bounds = ((None, None), (0, None), (0, None))\n",
    "linprog(c,A_ub=None,b_ub=None,A_eq=A_eq,b_eq=b_eq,bounds=bounds)"
   ]
  },
  {
   "cell_type": "code",
   "execution_count": 24,
   "id": "e38dff34",
   "metadata": {},
   "outputs": [
    {
     "data": {
      "text/plain": [
       "611023516879.9122"
      ]
     },
     "execution_count": 24,
     "metadata": {},
     "output_type": "execute_result"
    }
   ],
   "source": [
    "-linprog(c,A_ub=None,b_ub=None,A_eq=A_eq,b_eq=b_eq,bounds=bounds).fun"
   ]
  },
  {
   "cell_type": "markdown",
   "id": "6ab3d879",
   "metadata": {},
   "source": [
    "### 3. "
   ]
  },
  {
   "cell_type": "code",
   "execution_count": 22,
   "id": "3f1af626",
   "metadata": {},
   "outputs": [
    {
     "data": {
      "text/plain": [
       "     con: array([], dtype=float64)\n",
       "     fun: 5.999999993369687\n",
       " message: 'Optimization terminated successfully.'\n",
       "     nit: 4\n",
       "   slack: array([ 5.72031533e-09,  9.99999994e-01,  1.00000001e+00, -8.55915161e-09])\n",
       "  status: 0\n",
       " success: True\n",
       "       x: array([2.99999999e+00, 1.90162796e-09, 9.99999999e-01])"
      ]
     },
     "execution_count": 22,
     "metadata": {},
     "output_type": "execute_result"
    }
   ],
   "source": [
    "c = np.array([1, 2, 3])\n",
    "# A_ub = np.array([])\n",
    "# b_ub = np.array([])\n",
    "A_ub = np.array([[1, 1, 0], [-1, -1, 0], [1, 0, 1], [-1, 0, -1]])\n",
    "b_ub = np.array([3, -2, 5, -4])\n",
    "bounds = ((0, None), (0, None,), (0, None))\n",
    "linprog(c,A_ub=A_ub,b_ub=b_ub,A_eq=None,b_eq=None,bounds=bounds)"
   ]
  },
  {
   "cell_type": "code",
   "execution_count": 15,
   "id": "adc5099f",
   "metadata": {},
   "outputs": [
    {
     "data": {
      "text/plain": [
       "array([[ 1,  1,  0],\n",
       "       [-1, -1,  0],\n",
       "       [ 1,  0,  1],\n",
       "       [-1,  0, -1]])"
      ]
     },
     "execution_count": 15,
     "metadata": {},
     "output_type": "execute_result"
    }
   ],
   "source": [
    "np.array([[1, 1, 0], [-1, -1, 0], [1, 0, 1], [-1, 0, -1]])"
   ]
  },
  {
   "cell_type": "markdown",
   "id": "c1ae2dd3",
   "metadata": {},
   "source": [
    "4. "
   ]
  },
  {
   "cell_type": "markdown",
   "id": "cf9fc2c9",
   "metadata": {},
   "source": [
    "We know that there two different plant, two different source and three different market. So we can have 12 kinds of choice. Set that A_1_1, A_1_2, A_1_3, A_1_1, A_2_2, A_2_3, B_1_1, B_1_2, B_1_3, B_2_1, B_2_2, B_2_3. The first character indicates which plant, the second indicates which source and the third indicates which market transport to. Our goal is to select the best combination to minimize transportation cost.\n",
    "We have some limiting conditions which can be expressed by the inequation\n",
    "1. "
   ]
  },
  {
   "cell_type": "code",
   "execution_count": 4,
   "id": "a456eb62",
   "metadata": {
    "scrolled": true
   },
   "outputs": [
    {
     "data": {
      "text/plain": [
       "     con: array([], dtype=float64)\n",
       "     fun: 9099.999999799946\n",
       " message: 'Optimization terminated successfully.'\n",
       "     nit: 6\n",
       "   slack: array([ 1.65373493e-10,  4.47183623e-10, -1.93640659e-10, -4.32809344e-10,\n",
       "        1.38919987e-11])\n",
       "  status: 0\n",
       " success: True\n",
       "       x: array([3.00581178e-11, 8.44138162e+00, 1.55861838e+00, 3.23375399e-11,\n",
       "       5.55861838e+00, 1.44138162e+00, 4.33977514e-11, 2.31537793e-11,\n",
       "       3.92658490e-11, 8.00000000e+00, 3.48923046e-11, 1.77807012e-10])"
      ]
     },
     "execution_count": 4,
     "metadata": {},
     "output_type": "execute_result"
    }
   ],
   "source": [
    "c = np.array([500,300,200,600,400,300,\n",
    "              450,550,350,450,550,350])\n",
    "A_ub = np.array([[1,1,1,0,0,0,1,1,1,0,0,0], [0,0,0,1,1,1,0,0,0,1,1,1],\n",
    "                 [-1,0,0,-1,0,0,-1,0,0,-1,0,0], [0,-1,0,0,-1,0,0,-1,0,0,-1,0],\n",
    "                 [0,0,-1,0,0,-1,0,0,-1,0,0,-1]])\n",
    "b_ub = np.array([10,15,-8,-14,-3])\n",
    "bounds = ((0, None), (0, None), (0, None), (0, None), (0, None), (0, None),\n",
    "          (0, None), (0, None), (0, None), (0, None), (0, None), (0, None))\n",
    "linprog(c,A_ub=A_ub,b_ub=b_ub,A_eq=None,b_eq=None,bounds=bounds)"
   ]
  },
  {
   "cell_type": "code",
   "execution_count": 6,
   "id": "2bfaf028",
   "metadata": {},
   "outputs": [
    {
     "data": {
      "text/plain": [
       "array([500, 300, 200, 600, 400, 300, 450, 550, 350, 450, 550, 350])"
      ]
     },
     "execution_count": 6,
     "metadata": {},
     "output_type": "execute_result"
    }
   ],
   "source": [
    "np.array([500,300,200,600,400,300,\n",
    "              450,550,350,450,550,350])"
   ]
  },
  {
   "cell_type": "markdown",
   "id": "80674a28",
   "metadata": {},
   "source": [
    "### 5. "
   ]
  },
  {
   "cell_type": "code",
   "execution_count": 11,
   "id": "19911af2",
   "metadata": {},
   "outputs": [
    {
     "data": {
      "text/plain": [
       "array([inf, inf, inf, inf, inf, inf, inf, inf, inf, inf, inf, inf])"
      ]
     },
     "execution_count": 11,
     "metadata": {},
     "output_type": "execute_result"
    }
   ],
   "source": []
  },
  {
   "cell_type": "code",
   "execution_count": 9,
   "id": "22c8ea2f",
   "metadata": {},
   "outputs": [
    {
     "ename": "NameError",
     "evalue": "name 'Inf' is not defined",
     "output_type": "error",
     "traceback": [
      "\u001b[1;31m---------------------------------------------------------------------------\u001b[0m",
      "\u001b[1;31mNameError\u001b[0m                                 Traceback (most recent call last)",
      "\u001b[1;32m<ipython-input-9-1e747a45fb04>\u001b[0m in \u001b[0;36m<module>\u001b[1;34m\u001b[0m\n\u001b[1;32m----> 1\u001b[1;33m \u001b[0mInf\u001b[0m\u001b[1;33m\u001b[0m\u001b[1;33m\u001b[0m\u001b[0m\n\u001b[0m",
      "\u001b[1;31mNameError\u001b[0m: name 'Inf' is not defined"
     ]
    }
   ],
   "source": []
  },
  {
   "cell_type": "code",
   "execution_count": 14,
   "id": "e7324d8b",
   "metadata": {},
   "outputs": [
    {
     "data": {
      "text/plain": [
       "array([3.00581178e-11, 8.44138162e+00, 1.55861838e+00, 3.23375399e-11,\n",
       "       5.55861838e+00, 1.44138162e+00, 4.33977514e-11, 2.31537793e-11,\n",
       "       3.92658490e-11, 8.00000000e+00, 3.48923046e-11, 1.77807012e-10])"
      ]
     },
     "execution_count": 14,
     "metadata": {},
     "output_type": "execute_result"
    }
   ],
   "source": [
    "np.array([3.00581178e-11, 8.44138162e+00, 1.55861838e+00, 3.23375399e-11,5.55861838e+00, 1.44138162e+00, 4.33977514e-11, 2.31537793e-11, 3.92658490e-11, 8.00000000e+00, 3.48923046e-11, 1.77807012e-10])\n"
   ]
  },
  {
   "cell_type": "code",
   "execution_count": 3,
   "id": "251323d9",
   "metadata": {},
   "outputs": [
    {
     "data": {
      "text/plain": [
       "     con: array([], dtype=float64)\n",
       "     fun: 16545.454628810865\n",
       " message: 'Optimization terminated successfully.'\n",
       "     nit: 10\n",
       "   slack: array([3.15549260e-05, 7.17405492e-05, 3.45454867e+03, 1.00000003e+05])\n",
       "  status: 0\n",
       " success: True\n",
       "       x: array([2.93607146e-03, 5.45454547e+04, 2.88382597e-05, 4.54545424e+04])"
      ]
     },
     "execution_count": 3,
     "metadata": {},
     "output_type": "execute_result"
    }
   ],
   "source": [
    "c5 = np.array([1.12, 1.22, 1.34, -1.1, -1.1, -1.1, -1.1])\n",
    "A_ub5 = np.array([[1, 1, 1, -1, 0, 0, 0],[,0,0,1.1],[0,1.22,0,1.1],[0,0,1.34,1.1]])\n",
    "b_ub5 = np.array([100000,150000,120000,150000])\n",
    "A_eq5 = None\n",
    "b_eq5 = None\n",
    "l5 = np.array([0,0,0,0])\n",
    "u5 = np.array([None,None,None,None])\n",
    "x1_5 = (0,None)\n",
    "x2_5 = (0,None)\n",
    "x3_5 = (0,None)\n",
    "x4_5 = (0,None)\n",
    "bounds5 = (x1_5,x2_5,x3_5,x4_5)\n",
    "linprog(c=c5, A_ub=A_ub5, b_ub=b_ub5, A_eq=A_eq5, b_eq=b_eq5, bounds=bounds5)"
   ]
  },
  {
   "cell_type": "code",
   "execution_count": null,
   "id": "f538a4b1",
   "metadata": {},
   "outputs": [],
   "source": []
  }
 ],
 "metadata": {
  "kernelspec": {
   "display_name": "Python 3",
   "language": "python",
   "name": "python3"
  },
  "language_info": {
   "codemirror_mode": {
    "name": "ipython",
    "version": 3
   },
   "file_extension": ".py",
   "mimetype": "text/x-python",
   "name": "python",
   "nbconvert_exporter": "python",
   "pygments_lexer": "ipython3",
   "version": "3.8.8"
  }
 },
 "nbformat": 4,
 "nbformat_minor": 5
}
