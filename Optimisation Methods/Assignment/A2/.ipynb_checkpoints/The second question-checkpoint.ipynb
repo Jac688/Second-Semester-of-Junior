{
 "cells": [
  {
   "cell_type": "code",
   "execution_count": 1,
   "metadata": {},
   "outputs": [
    {
     "name": "stdout",
     "output_type": "stream",
     "text": [
      "-1.1115903533668563 -0.941375369605261\n"
     ]
    },
    {
     "data": {
      "text/plain": [
       "(8, 0.0007013419524897202)"
      ]
     },
     "execution_count": 1,
     "metadata": {},
     "output_type": "execute_result"
    }
   ],
   "source": [
    "def fx(x):\n",
    "    return x**2 + 2*x + 1\n",
    "\n",
    "def Golden_Section_Method(tol):\n",
    "    x_s = -3 # x_s\n",
    "    x_t = 5  # x_t\n",
    "    cnt = 0  # Record the number of iterations\n",
    "    while (1):\n",
    "        cnt += 1\n",
    "        x_bar = x_s + 0.618 * (x_t-x_s)\n",
    "        x_hat = x_s + (1-0.618) * (x_t-x_s)\n",
    "        # detemine the update condition\n",
    "        if fx(x_bar) > fx(x_hat):\n",
    "            x_t = x_bar\n",
    "        else:\n",
    "            x_s = x_hat\n",
    "        L = abs(x_s - x_t)\n",
    "        if L <= tol:\n",
    "            print(x_s, x_t)\n",
    "            return x_s, x_t, cnt\n",
    "            break\n",
    "x_s, x_t, cnt = Golden_Section_Method(0.2) \n",
    "# Show the number of iterations and the result\n",
    "cnt, fx((x_s+x_t)/2)"
   ]
  },
  {
   "cell_type": "code",
   "execution_count": null,
   "metadata": {},
   "outputs": [],
   "source": []
  }
 ],
 "metadata": {
  "kernelspec": {
   "display_name": "Python 3",
   "language": "python",
   "name": "python3"
  },
  "language_info": {
   "codemirror_mode": {
    "name": "ipython",
    "version": 3
   },
   "file_extension": ".py",
   "mimetype": "text/x-python",
   "name": "python",
   "nbconvert_exporter": "python",
   "pygments_lexer": "ipython3",
   "version": "3.8.8"
  }
 },
 "nbformat": 4,
 "nbformat_minor": 4
}
